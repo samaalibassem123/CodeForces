{
 "cells": [
  {
   "cell_type": "markdown",
   "id": "ef99a605-72a8-4658-b7ca-a25afc2e14f9",
   "metadata": {},
   "source": [
    "# 2044B"
   ]
  },
  {
   "cell_type": "markdown",
   "id": "8e28451d-a5f6-49b8-ac5b-8abcfb960676",
   "metadata": {},
   "source": [
    "# B. Normal Problem\n",
    "### time limit per test1 second\n",
    "#### memory limit per test256 megabytes\n",
    "* A string consisting of only characters 'p', 'q', and 'w' is painted on a glass window of a store. Ship walks past the store, standing directly in front of the glass window, and observes string a\n",
    ". Ship then heads inside the store, looks directly at the same glass window, and observes string b\n",
    ".\n",
    "\n",
    "* Ship gives you string a\n",
    ". Your job is to find and output b\n",
    ".\n",
    "\n",
    "## Input\n",
    "* The first line contains an integer t\n",
    " (1≤t≤100\n",
    ") — the number of test cases.\n",
    "\n",
    "* The only line of each test case contains a string a\n",
    " (1≤|a|≤100\n",
    ") — the string Ship observes from outside the store. It is guaranteed that a\n",
    " only contains characters 'p', 'q', and 'w'.\n",
    "\n",
    "## Output\n",
    "For each test case, output string b\n",
    ", the string Ship observes from inside the store, on a new line.\n"
   ]
  },
  {
   "cell_type": "code",
   "execution_count": 5,
   "id": "b0aa5103-b09c-476f-9477-0b3748194339",
   "metadata": {},
   "outputs": [
    {
     "name": "stdin",
     "output_type": "stream",
     "text": [
      " 2\n",
      " qwq\n",
      " ppppp\n"
     ]
    },
    {
     "data": {
      "text/plain": [
       "['qwq', 'ppppp']"
      ]
     },
     "execution_count": 5,
     "metadata": {},
     "output_type": "execute_result"
    }
   ],
   "source": [
    "# number of sets\n",
    "t = int(input())\n",
    "tab = []\n",
    "for i in range(t):\n",
    "    ch = input()\n",
    "    tab.append(ch)\n",
    "tab"
   ]
  },
  {
   "cell_type": "code",
   "execution_count": 8,
   "id": "c1fdff04-c682-4fe7-b2d9-7b95e0b095fc",
   "metadata": {},
   "outputs": [
    {
     "name": "stdout",
     "output_type": "stream",
     "text": [
      "pwp\n",
      "qqqqq\n"
     ]
    }
   ],
   "source": [
    "for ch in tab:\n",
    "    res = ''\n",
    "    for i in range(len(ch)):\n",
    "        if(ch[i] == 'p'):\n",
    "            res += 'q'\n",
    "        elif(ch[i] == 'q'):\n",
    "            res += 'p'\n",
    "        else:\n",
    "            res += ch[i]\n",
    "    print(res[::-1])"
   ]
  },
  {
   "cell_type": "code",
   "execution_count": null,
   "id": "186ee2e5-24de-4ba4-a5cc-f965f3d1ab63",
   "metadata": {},
   "outputs": [],
   "source": []
  }
 ],
 "metadata": {
  "kernelspec": {
   "display_name": "Python 3 (ipykernel)",
   "language": "python",
   "name": "python3"
  },
  "language_info": {
   "codemirror_mode": {
    "name": "ipython",
    "version": 3
   },
   "file_extension": ".py",
   "mimetype": "text/x-python",
   "name": "python",
   "nbconvert_exporter": "python",
   "pygments_lexer": "ipython3",
   "version": "3.12.7"
  }
 },
 "nbformat": 4,
 "nbformat_minor": 5
}

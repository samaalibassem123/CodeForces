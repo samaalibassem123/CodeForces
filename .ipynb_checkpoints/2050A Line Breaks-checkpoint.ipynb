{
 "cells": [
  {
   "cell_type": "markdown",
   "id": "bfedac12-969f-478b-937c-3b79734d4835",
   "metadata": {},
   "source": [
    "# 2025A"
   ]
  },
  {
   "cell_type": "markdown",
   "id": "8681b66a-ea6e-4b80-9db9-5a8f6caf6e7e",
   "metadata": {},
   "source": [
    "## Line Breaks"
   ]
  },
  {
   "cell_type": "code",
   "execution_count": 31,
   "id": "e6b00400-f59d-4223-b090-8a3730d2c727",
   "metadata": {},
   "outputs": [
    {
     "name": "stdin",
     "output_type": "stream",
     "text": [
      "Give me t =  5\n"
     ]
    },
    {
     "name": "stdout",
     "output_type": "stream",
     "text": [
      "SET NUMBER 0\n"
     ]
    },
    {
     "name": "stdin",
     "output_type": "stream",
     "text": [
      "Give me the number of words n =  3\n",
      "Give me the number of caracters m =  1\n",
      "Give me the word number 0:  a\n",
      "Give me the word number 1:  b\n",
      "Give me the word number 2:  c\n"
     ]
    },
    {
     "name": "stdout",
     "output_type": "stream",
     "text": [
      "SET NUMBER 1\n"
     ]
    },
    {
     "name": "stdin",
     "output_type": "stream",
     "text": [
      "Give me the number of words n =  2\n",
      "Give me the number of caracters m =  9\n",
      "Give me the word number 0:  alpha\n",
      "Give me the word number 1:  beta\n"
     ]
    },
    {
     "name": "stdout",
     "output_type": "stream",
     "text": [
      "SET NUMBER 2\n"
     ]
    },
    {
     "name": "stdin",
     "output_type": "stream",
     "text": [
      "Give me the number of words n =  4\n",
      "Give me the number of caracters m =  12\n",
      "Give me the word number 0:  hello\n",
      "Give me the word number 1:  world\n",
      "Give me the word number 2:  and\n",
      "Give me the word number 3:  codeforces\n"
     ]
    },
    {
     "name": "stdout",
     "output_type": "stream",
     "text": [
      "SET NUMBER 3\n"
     ]
    },
    {
     "name": "stdin",
     "output_type": "stream",
     "text": [
      "Give me the number of words n =  3\n",
      "Give me the number of caracters m =  2\n",
      "Give me the word number 0:  ab\n",
      "Give me the word number 1:  c\n",
      "Give me the word number 2:  d\n"
     ]
    },
    {
     "name": "stdout",
     "output_type": "stream",
     "text": [
      "SET NUMBER 4\n"
     ]
    },
    {
     "name": "stdin",
     "output_type": "stream",
     "text": [
      "Give me the number of words n =  3\n",
      "Give me the number of caracters m =  2\n",
      "Give me the word number 0:  abc\n",
      "Give me the word number 1:  ab\n",
      "Give me the word number 2:  a\n"
     ]
    }
   ],
   "source": [
    "#inputs\n",
    "t = int(input(\"Give me t = \"))\n",
    "#declare the main table\n",
    "tab = []\n",
    "for i in range(t):\n",
    "    print(\"SET NUMBER \"+str(i))\n",
    "    #table to store words\n",
    "    tabch = []\n",
    "    # a dictionary for every set\n",
    "    e = {}\n",
    "    n  = int(input(\"Give me the number of words n = \"))\n",
    "    m = int(input(\"Give me the number of caracters m = \"))\n",
    "    e['n'] = n\n",
    "    e['m'] = m\n",
    "    # store words in tabch\n",
    "    for i in range(n):\n",
    "        ch = str(input(f\"Give me the word number {i}: \"))\n",
    "        tabch.append(ch)\n",
    "    e['strings'] = tabch\n",
    "    # finally store the dictionary in the main table\n",
    "    tab.append(e)\n"
   ]
  },
  {
   "cell_type": "code",
   "execution_count": 32,
   "id": "a580c7c8-016e-4180-bc32-e05def0f6dcf",
   "metadata": {},
   "outputs": [
    {
     "data": {
      "text/plain": [
       "[{'n': 3, 'm': 1, 'strings': ['a', 'b', 'c']},\n",
       " {'n': 2, 'm': 9, 'strings': ['alpha', 'beta']},\n",
       " {'n': 4, 'm': 12, 'strings': ['hello', 'world', 'and', 'codeforces']},\n",
       " {'n': 3, 'm': 2, 'strings': ['ab', 'c', 'd']},\n",
       " {'n': 3, 'm': 2, 'strings': ['abc', 'ab', 'a']}]"
      ]
     },
     "execution_count": 32,
     "metadata": {},
     "output_type": "execute_result"
    }
   ],
   "source": [
    "#the main table\n",
    "tab"
   ]
  },
  {
   "cell_type": "code",
   "execution_count": 62,
   "id": "95fb9b88-7880-4d3c-97bc-83ae52afa021",
   "metadata": {},
   "outputs": [
    {
     "name": "stdout",
     "output_type": "stream",
     "text": [
      "1\n",
      "2\n",
      "2\n",
      "1\n",
      "0\n"
     ]
    }
   ],
   "source": [
    "for e in tab:\n",
    "    taille = 0\n",
    "    x = 0\n",
    "    for word in e['strings']:\n",
    "        taille += len(word)\n",
    "        if(taille > e['m']):\n",
    "            break\n",
    "        x += 1\n",
    "    # \n",
    "    print(x)  "
   ]
  },
  {
   "cell_type": "code",
   "execution_count": null,
   "id": "f0b9bdb5-326f-4fea-9d8c-e25b6c963349",
   "metadata": {},
   "outputs": [],
   "source": [
    "# with c\n",
    "#include <stdio.h>\n",
    "#include <stdlib.h>\n",
    "#include <string.h>\n",
    "\n",
    "typedef struct {\n",
    "    int n;\n",
    "    int m;\n",
    "    char **strings;\n",
    "} Entry;\n",
    "\n",
    "int main() {\n",
    "    int t;\n",
    "    scanf(\"%d\", &t);\n",
    "    Entry *tab = malloc(t * sizeof(Entry));\n",
    "\n",
    "    for (int i = 0; i < t; i++) {\n",
    "        tab[i].strings = NULL;\n",
    "        scanf(\"%d\", &tab[i].n);\n",
    "        scanf(\"%d\", &tab[i].m);\n",
    "        tab[i].strings = malloc(tab[i].n * sizeof(char*));\n",
    "\n",
    "        for (int j = 0; j < tab[i].n; j++) {\n",
    "            tab[i].strings[j] = malloc(100 * sizeof(char)); // Assuming max length of each string is 99\n",
    "            scanf(\"%s\", tab[i].strings[j]);\n",
    "        }\n",
    "    }\n",
    "\n",
    "    for (int i = 0; i < t; i++) {\n",
    "        int taille = 0;\n",
    "        int x = 0;\n",
    "        for (int j = 0; j < tab[i].n; j++) {\n",
    "            taille += strlen(tab[i].strings[j]);\n",
    "            if (taille > tab[i].m) {\n",
    "                break;\n",
    "            }\n",
    "            x++;\n",
    "        }\n",
    "        printf(\"%d\\n\", x);\n",
    "    }\n",
    "\n",
    "    for (int i = 0; i < t; i++) {\n",
    "        for (int j = 0; j < tab[i].n; j++) {\n",
    "            free(tab[i].strings[j]);\n",
    "        }\n",
    "        free(tab[i].strings);\n",
    "    }\n",
    "    free(tab);\n",
    "\n",
    "    return 0;\n",
    "}\n",
    "\n"
   ]
  }
 ],
 "metadata": {
  "kernelspec": {
   "display_name": "Python 3 (ipykernel)",
   "language": "python",
   "name": "python3"
  },
  "language_info": {
   "codemirror_mode": {
    "name": "ipython",
    "version": 3
   },
   "file_extension": ".py",
   "mimetype": "text/x-python",
   "name": "python",
   "nbconvert_exporter": "python",
   "pygments_lexer": "ipython3",
   "version": "3.12.7"
  }
 },
 "nbformat": 4,
 "nbformat_minor": 5
}

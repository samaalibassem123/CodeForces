{
 "cells": [
  {
   "cell_type": "markdown",
   "id": "3f99796a-7744-497e-8e97-5071b8e3a617",
   "metadata": {},
   "source": [
    "# A. Alalay"
   ]
  },
  {
   "cell_type": "markdown",
   "id": "d3550ed7-9e1e-4e4a-afb1-85b9e530e932",
   "metadata": {},
   "source": [
    "The Autonomous Municipal Government of Cochabamba has decided to build a park around the Alalay Lagoon. El Soto, after working for 2 years on a cargo ship, has decided to work for the municipality. He studied physics, but they made him pass as a civil engineer since El Soto can handle everything. El Soto provided a list of points to Samir, the geometry manager of the municipality. El Soto claimed that the supposed list of points is ordered counterclockwise and that it forms the convex hull enclosing the lagoon. El Soto also claims that this convex hull would be a good boundary for the park according to mathematical calculations that El Soto is capable of doing in his head and that you wouldn't understand.\n",
    "\n",
    "The convex hull is defined as the smallest convex polygon that can enclose a set of points in the plane.\n",
    "\n",
    "\n",
    "Samir looks at him doubtfully and discovers that El Soto was mistaken, but not entirely; the coordinates are correct, but their order is not. He realizes that by swapping two coordinates, he can fix the plan and obtain a counterclockwise convex hull. Help El Soto and Samir figure out which coordinates to swap."
   ]
  },
  {
   "cell_type": "markdown",
   "id": "acff31eb-bd57-463b-be8d-2fe8cbe9cfe3",
   "metadata": {},
   "source": [
    "## Input\n",
    ". The first line contains an integer t\n",
    " (1≤t≤104\n",
    ") representing the number of test cases.\n",
    "\n",
    ". For each test case, the first line contains an integer n\n",
    " (4≤n≤105\n",
    ") representing the number of points in the order that El Soto provided to Samir.\n",
    "\n",
    ". The following n\n",
    " lines each contain two integers xi\n",
    " and yi\n",
    " (−109≤xi,yi≤109\n",
    ") representing the coordinates of the points.\n",
    "\n",
    ". It is guaranteed that the sum of n\n",
    " across all test cases does not exceed 105\n",
    ", that in each test case there are no three collinear points, and that for each test case there is always a unique solution.\n",
    "\n",
    "## Output\n",
    ". For each test case, print two integers i\n",
    ", j\n",
    " (i<j)\n",
    ", the indices of the coordinates that need to be swapped to obtain a correctly ordered convex hull."
   ]
  },
  {
   "cell_type": "code",
   "execution_count": 5,
   "id": "96931730-6731-4c37-a92f-5cdde52c2c7e",
   "metadata": {},
   "outputs": [
    {
     "name": "stdin",
     "output_type": "stream",
     "text": [
      " 2\n",
      " 2\n",
      " 0 2\n",
      " 2 0\n"
     ]
    },
    {
     "name": "stdout",
     "output_type": "stream",
     "text": [
      "{'n': 2, 0: '0 2', 1: '2 0'}\n"
     ]
    },
    {
     "name": "stdin",
     "output_type": "stream",
     "text": [
      " 1\n",
      " 1 2\n"
     ]
    },
    {
     "name": "stdout",
     "output_type": "stream",
     "text": [
      "{'n': 1, 0: '1 2'}\n"
     ]
    }
   ],
   "source": [
    "t = int(input())\n",
    "tab = []\n",
    "for i in range(t):\n",
    "    e = {}\n",
    "    n = int(input())\n",
    "    e['n'] = n\n",
    "    for j in range(n):\n",
    "        point = input()\n",
    "        e[j] = point\n",
    "    print(e)\n",
    "    tab.append(e)"
   ]
  },
  {
   "cell_type": "code",
   "execution_count": 6,
   "id": "ecb0b281-d08e-4bee-af32-5ea1d1f33c23",
   "metadata": {},
   "outputs": [
    {
     "data": {
      "text/plain": [
       "[{'n': 2, 0: '0 2', 1: '2 0'}, {'n': 1, 0: '1 2'}]"
      ]
     },
     "execution_count": 6,
     "metadata": {},
     "output_type": "execute_result"
    }
   ],
   "source": [
    "tab.sort()"
   ]
  },
  {
   "cell_type": "code",
   "execution_count": 15,
   "id": "7787d033-18f6-404b-9fff-63d656f3ea21",
   "metadata": {},
   "outputs": [
    {
     "name": "stdout",
     "output_type": "stream",
     "text": [
      "0,2\n",
      "2,0\n",
      "end\n",
      "1,2\n",
      "end\n"
     ]
    }
   ],
   "source": [
    "for sets in tab:\n",
    "    n = sets['n']\n",
    "    for i in range(n):\n",
    "        point = sets[i]\n",
    "        x = point[:point.find(' ')]\n",
    "        y = point[point.find(' ')+1:]\n",
    "        print(x+','+ y)\n",
    "    print('end')"
   ]
  },
  {
   "cell_type": "code",
   "execution_count": null,
   "id": "e9e04a75-908b-4841-a535-8498bd603326",
   "metadata": {},
   "outputs": [],
   "source": []
  }
 ],
 "metadata": {
  "kernelspec": {
   "display_name": "Python 3 (ipykernel)",
   "language": "python",
   "name": "python3"
  },
  "language_info": {
   "codemirror_mode": {
    "name": "ipython",
    "version": 3
   },
   "file_extension": ".py",
   "mimetype": "text/x-python",
   "name": "python",
   "nbconvert_exporter": "python",
   "pygments_lexer": "ipython3",
   "version": "3.12.7"
  }
 },
 "nbformat": 4,
 "nbformat_minor": 5
}

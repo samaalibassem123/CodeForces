{
 "cells": [
  {
   "cell_type": "markdown",
   "id": "884c1d49-6a18-482c-997f-61554fe8dc33",
   "metadata": {},
   "source": [
    "# 2047A"
   ]
  },
  {
   "cell_type": "markdown",
   "id": "a20437d8-68bc-4451-be02-97c002c3eb73",
   "metadata": {},
   "source": [
    "## Alyona and a Square Jigsaw Puzzle"
   ]
  },
  {
   "cell_type": "code",
   "execution_count": 3,
   "id": "658071c6-17b0-4217-8a6a-d27394f7eae8",
   "metadata": {},
   "outputs": [
    {
     "name": "stdin",
     "output_type": "stream",
     "text": [
      " 5\n",
      " 1\n",
      " 1\n",
      " 2\n",
      " 1 8\n",
      " 5\n",
      " 1 3 2 1 2\n",
      " 7\n",
      " 1 2 1 10 2 7 2\n",
      " 14\n",
      " 1 10 10 100 1 1 10 1 10 2 10 2 10 1\n"
     ]
    }
   ],
   "source": [
    "# number of sets\n",
    "t = int(input())\n",
    "tab = []\n",
    "for i in range(t):\n",
    "    e = {}\n",
    "    # number of days\n",
    "    e['n'] = int(input())\n",
    "    # a the pices added for each day in a single word\n",
    "    e['a'] = input()\n",
    "    # a tab that contain a dictionare for ethery set \n",
    "    tab.append(e)\n",
    "    "
   ]
  },
  {
   "cell_type": "code",
   "execution_count": 4,
   "id": "6bb23fe0-adae-4df3-a7ab-6f95d46fce10",
   "metadata": {},
   "outputs": [
    {
     "data": {
      "text/plain": [
       "[{'n': 1, 'a': '1'},\n",
       " {'n': 2, 'a': '1 8'},\n",
       " {'n': 5, 'a': '1 3 2 1 2'},\n",
       " {'n': 7, 'a': '1 2 1 10 2 7 2'},\n",
       " {'n': 14, 'a': '1 10 10 100 1 1 10 1 10 2 10 2 10 1'}]"
      ]
     },
     "execution_count": 4,
     "metadata": {},
     "output_type": "execute_result"
    }
   ],
   "source": [
    "tab"
   ]
  },
  {
   "cell_type": "code",
   "execution_count": 20,
   "id": "02467174-f534-4b6e-be0a-094007ab7c60",
   "metadata": {},
   "outputs": [
    {
     "name": "stdout",
     "output_type": "stream",
     "text": [
      "1\n",
      "2\n",
      "2\n",
      "2\n",
      "3\n"
     ]
    }
   ],
   "source": [
    "for e in tab : \n",
    "       \n",
    "    # a loop to get the numbers of pieces achieved in every day\n",
    "    temp_a = e['a'] + ' '\n",
    "    a = int(temp_a[:temp_a.find(' ')])  \n",
    "    #happy days\n",
    "    hp_day = 0\n",
    "    # test the first day \n",
    "    if a == 1 :\n",
    "        hp_day = 1\n",
    "    s = 0\n",
    "    nb = 1\n",
    "    test_s = 0\n",
    "    #table of pices \n",
    "    tab_p = []\n",
    "    while temp_a != '' :\n",
    "        a = int(temp_a[:temp_a.find(' ')]) \n",
    "        s += a\n",
    "        while ( test_s <= s ):\n",
    "            nb += 2\n",
    "            test_s = nb*nb\n",
    "            tab_p.append(test_s)\n",
    "        if(s in tab_p):\n",
    "            hp_day += 1\n",
    "        temp_a = temp_a[temp_a.find(' ')+1:]\n",
    "\n",
    "    print(hp_day)\n",
    "        "
   ]
  },
  {
   "cell_type": "code",
   "execution_count": null,
   "id": "422b86bf-98ea-41e1-967c-ad66d6eb142a",
   "metadata": {},
   "outputs": [],
   "source": []
  }
 ],
 "metadata": {
  "kernelspec": {
   "display_name": "Python 3 (ipykernel)",
   "language": "python",
   "name": "python3"
  },
  "language_info": {
   "codemirror_mode": {
    "name": "ipython",
    "version": 3
   },
   "file_extension": ".py",
   "mimetype": "text/x-python",
   "name": "python",
   "nbconvert_exporter": "python",
   "pygments_lexer": "ipython3",
   "version": "3.12.7"
  }
 },
 "nbformat": 4,
 "nbformat_minor": 5
}

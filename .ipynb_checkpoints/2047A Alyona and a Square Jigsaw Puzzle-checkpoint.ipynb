{
 "cells": [
  {
   "cell_type": "markdown",
   "id": "884c1d49-6a18-482c-997f-61554fe8dc33",
   "metadata": {},
   "source": [
    "# 2047A"
   ]
  },
  {
   "cell_type": "markdown",
   "id": "a20437d8-68bc-4451-be02-97c002c3eb73",
   "metadata": {},
   "source": [
    "## Alyona and a Square Jigsaw Puzzle"
   ]
  },
  {
   "cell_type": "code",
   "execution_count": 24,
   "id": "658071c6-17b0-4217-8a6a-d27394f7eae8",
   "metadata": {},
   "outputs": [
    {
     "name": "stdin",
     "output_type": "stream",
     "text": [
      " 2\n",
      " 7\n",
      " 1 2 1 10 2 7 2\n",
      " 14\n",
      " 1 10 10 100 1 1 10 1 10 2 10 2 10 1\n"
     ]
    }
   ],
   "source": [
    "# number of sets\n",
    "t = int(input())\n",
    "tab = []\n",
    "for i in range(t):\n",
    "    e = {}\n",
    "    # number of days\n",
    "    e['n'] = int(input())\n",
    "    # a the pices added for each day in a single word\n",
    "    e['a'] = input()\n",
    "    # a tab that contain a dictionare for ethery set \n",
    "    tab.append(e)\n",
    "    "
   ]
  },
  {
   "cell_type": "code",
   "execution_count": 25,
   "id": "6bb23fe0-adae-4df3-a7ab-6f95d46fce10",
   "metadata": {},
   "outputs": [
    {
     "data": {
      "text/plain": [
       "[{'n': 7, 'a': '1 2 1 10 2 7 2'},\n",
       " {'n': 14, 'a': '1 10 10 100 1 1 10 1 10 2 10 2 10 1'}]"
      ]
     },
     "execution_count": 25,
     "metadata": {},
     "output_type": "execute_result"
    }
   ],
   "source": [
    "tab"
   ]
  },
  {
   "cell_type": "code",
   "execution_count": 66,
   "id": "02467174-f534-4b6e-be0a-094007ab7c60",
   "metadata": {},
   "outputs": [
    {
     "name": "stdout",
     "output_type": "stream",
     "text": [
      "nb happy:  2\n",
      "nb happy:  3\n"
     ]
    }
   ],
   "source": [
    "\n",
    "for e in tab : \n",
    "       \n",
    "    # a loop to get the numbers of pieces achieved in every day\n",
    "    temp_a = e['a'] + ' '\n",
    "    a = int(temp_a[:temp_a.find(' ')]) \n",
    "    # a list of number of pieces that should be accomplich in every day\n",
    "    tab_pieces = [1]\n",
    "    nb_p = 3\n",
    "    for i in range(e['n']):\n",
    "        tab_pieces.append(nb_p*nb_p)\n",
    "        nb_p += 2 \n",
    "    \n",
    "    #happy days\n",
    "    hp_day = 0\n",
    "    # first we should test the first day if alyona is happy or not\n",
    "    if(a == 1):\n",
    "        hp_day += 1 \n",
    "    while temp_a.find(' ') != -1:\n",
    "        temp_a = temp_a[temp_a.find(' ')+1:]\n",
    "        if(temp_a[:temp_a.find(' ')] != '' ):\n",
    "            a += int(temp_a[:temp_a.find(' ')])\n",
    "            if(a in tab_pieces):\n",
    "                hp_day += 1\n",
    "    \n",
    "    print('nb happy: ', hp_day)\n",
    "        "
   ]
  },
  {
   "cell_type": "code",
   "execution_count": null,
   "id": "422b86bf-98ea-41e1-967c-ad66d6eb142a",
   "metadata": {},
   "outputs": [],
   "source": []
  }
 ],
 "metadata": {
  "kernelspec": {
   "display_name": "Python 3 (ipykernel)",
   "language": "python",
   "name": "python3"
  },
  "language_info": {
   "codemirror_mode": {
    "name": "ipython",
    "version": 3
   },
   "file_extension": ".py",
   "mimetype": "text/x-python",
   "name": "python",
   "nbconvert_exporter": "python",
   "pygments_lexer": "ipython3",
   "version": "3.12.7"
  }
 },
 "nbformat": 4,
 "nbformat_minor": 5
}

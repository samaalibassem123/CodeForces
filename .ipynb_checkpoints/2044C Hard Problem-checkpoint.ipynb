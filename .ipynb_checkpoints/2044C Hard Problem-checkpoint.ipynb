{
 "cells": [
  {
   "cell_type": "markdown",
   "id": "1ebc5dc7-93f4-42d0-96a6-051bebf907d2",
   "metadata": {},
   "source": [
    "# 2044C"
   ]
  },
  {
   "cell_type": "markdown",
   "id": "035de714-78fc-43fc-bc73-0a327a9dfc4c",
   "metadata": {},
   "source": [
    "# C. Hard Problem\n",
    "### time limit per test1 second\n",
    "#### memory limit per test256 megabytes\n",
    "* Ball is the teacher in Paperfold University. The seats of his classroom are arranged in 2\n",
    " rows with m\n",
    " seats each.\n",
    "\n",
    "* Ball is teaching a+b+c\n",
    " monkeys, and he wants to assign as many monkeys to a seat as possible. Ball knows that a\n",
    " of them only want to sit in row 1\n",
    ", b\n",
    " of them only want to sit in row 2\n",
    ", and c\n",
    " of them have no preference. Only one monkey may sit in each seat, and each monkey's preference must be followed if it is seated.\n",
    "\n",
    "What is the maximum number of monkeys that Ball can seat?\n",
    "\n",
    "### Input\n",
    "The first line contains an integer t\n",
    " (1≤t≤104\n",
    ") — the number of test cases.\n",
    "\n",
    "Each test case contains four integers m\n",
    ", a\n",
    ", b\n",
    ", and c\n",
    " (1≤m,a,b,c≤108\n",
    ").\n",
    "\n",
    "### Output\n",
    "For each test case, output the maximum number of monkeys you can seat."
   ]
  },
  {
   "cell_type": "code",
   "execution_count": null,
   "id": "21b4b5d9-88a5-4119-a8e1-e5a4f67e63c9",
   "metadata": {},
   "outputs": [],
   "source": []
  }
 ],
 "metadata": {
  "kernelspec": {
   "display_name": "Python 3 (ipykernel)",
   "language": "python",
   "name": "python3"
  },
  "language_info": {
   "codemirror_mode": {
    "name": "ipython",
    "version": 3
   },
   "file_extension": ".py",
   "mimetype": "text/x-python",
   "name": "python",
   "nbconvert_exporter": "python",
   "pygments_lexer": "ipython3",
   "version": "3.12.7"
  }
 },
 "nbformat": 4,
 "nbformat_minor": 5
}

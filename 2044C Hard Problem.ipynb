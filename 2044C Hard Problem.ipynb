{
 "cells": [
  {
   "cell_type": "markdown",
   "id": "1ebc5dc7-93f4-42d0-96a6-051bebf907d2",
   "metadata": {},
   "source": [
    "# 2044C"
   ]
  },
  {
   "cell_type": "markdown",
   "id": "035de714-78fc-43fc-bc73-0a327a9dfc4c",
   "metadata": {},
   "source": [
    "# C. Hard Problem\n",
    "### time limit per test1 second\n",
    "#### memory limit per test256 megabytes\n",
    "* Ball is the teacher in Paperfold University. The seats of his classroom are arranged in 2\n",
    " rows with m\n",
    " seats each.\n",
    "\n",
    "* Ball is teaching a+b+c\n",
    " monkeys, and he wants to assign as many monkeys to a seat as possible. Ball knows that a\n",
    " of them only want to sit in row 1\n",
    ", b\n",
    " of them only want to sit in row 2\n",
    ", and c\n",
    " of them have no preference. Only one monkey may sit in each seat, and each monkey's preference must be followed if it is seated.\n",
    "\n",
    "What is the maximum number of monkeys that Ball can seat?\n",
    "\n",
    "### Input\n",
    "The first line contains an integer t\n",
    " (1≤t≤104\n",
    ") — the number of test cases.\n",
    "\n",
    "Each test case contains four integers m\n",
    ", a\n",
    ", b\n",
    ", and c\n",
    " (1≤m,a,b,c≤108\n",
    ").\n",
    "\n",
    "### Output\n",
    "For each test case, output the maximum number of monkeys you can seat."
   ]
  },
  {
   "cell_type": "code",
   "execution_count": 3,
   "id": "21b4b5d9-88a5-4119-a8e1-e5a4f67e63c9",
   "metadata": {},
   "outputs": [
    {
     "name": "stdin",
     "output_type": "stream",
     "text": [
      " 2\n",
      " 10 5 5 10\n",
      " 3 6 1 1\n"
     ]
    },
    {
     "data": {
      "text/plain": [
       "[['10', '5', '5', '10'], ['3', '6', '1', '1']]"
      ]
     },
     "execution_count": 3,
     "metadata": {},
     "output_type": "execute_result"
    }
   ],
   "source": [
    "# number of sets\n",
    "t = int(input())\n",
    "tab = []\n",
    "for i in range(t):\n",
    "    ch = input()\n",
    "    tab.append(ch.split())\n",
    "tab\n",
    "    "
   ]
  },
  {
   "cell_type": "code",
   "execution_count": 11,
   "id": "ccca15f4-a11a-442f-a331-ad542bc34ff1",
   "metadata": {},
   "outputs": [
    {
     "name": "stdout",
     "output_type": "stream",
     "text": [
      "20\n",
      "5\n"
     ]
    }
   ],
   "source": [
    "for tabs in tab:\n",
    "    m = int(tabs[0])\n",
    "    a = int(tabs[1])\n",
    "    b = int(tabs[2])\n",
    "    c = int(tabs[3])\n",
    "\n",
    "    s_row1 = m\n",
    "    s_row2 = m\n",
    "    if(a < m):\n",
    "        s_row1 -= a \n",
    "    else:\n",
    "        s_row1 = 0\n",
    "    if(b < m):\n",
    "        s_row2 -= b\n",
    "    else:\n",
    "        s_row2 = 0\n",
    "    #available seats \n",
    "    sv = s_row1 + s_row2    \n",
    "    #completed seats\n",
    "    sc = (m*2) - sv \n",
    "    if(c < sv):\n",
    "        sc += c \n",
    "    else:\n",
    "        sc += sv \n",
    "    print(sc)"
   ]
  },
  {
   "cell_type": "code",
   "execution_count": null,
   "id": "51ae59e2-0b6a-4303-a2d4-0abf1ed8db93",
   "metadata": {},
   "outputs": [],
   "source": []
  }
 ],
 "metadata": {
  "kernelspec": {
   "display_name": "Python 3 (ipykernel)",
   "language": "python",
   "name": "python3"
  },
  "language_info": {
   "codemirror_mode": {
    "name": "ipython",
    "version": 3
   },
   "file_extension": ".py",
   "mimetype": "text/x-python",
   "name": "python",
   "nbconvert_exporter": "python",
   "pygments_lexer": "ipython3",
   "version": "3.12.7"
  }
 },
 "nbformat": 4,
 "nbformat_minor": 5
}

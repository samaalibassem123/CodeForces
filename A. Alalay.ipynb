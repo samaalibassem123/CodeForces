{
 "cells": [
  {
   "cell_type": "markdown",
   "id": "3f99796a-7744-497e-8e97-5071b8e3a617",
   "metadata": {},
   "source": [
    "# A. Alalay"
   ]
  },
  {
   "cell_type": "markdown",
   "id": "d3550ed7-9e1e-4e4a-afb1-85b9e530e932",
   "metadata": {},
   "source": [
    "The Autonomous Municipal Government of Cochabamba has decided to build a park around the Alalay Lagoon. El Soto, after working for 2 years on a cargo ship, has decided to work for the municipality. He studied physics, but they made him pass as a civil engineer since El Soto can handle everything. El Soto provided a list of points to Samir, the geometry manager of the municipality. El Soto claimed that the supposed list of points is ordered counterclockwise and that it forms the convex hull enclosing the lagoon. El Soto also claims that this convex hull would be a good boundary for the park according to mathematical calculations that El Soto is capable of doing in his head and that you wouldn't understand.\n",
    "\n",
    "The convex hull is defined as the smallest convex polygon that can enclose a set of points in the plane.\n",
    "\n",
    "\n",
    "Samir looks at him doubtfully and discovers that El Soto was mistaken, but not entirely; the coordinates are correct, but their order is not. He realizes that by swapping two coordinates, he can fix the plan and obtain a counterclockwise convex hull. Help El Soto and Samir figure out which coordinates to swap."
   ]
  },
  {
   "cell_type": "markdown",
   "id": "acff31eb-bd57-463b-be8d-2fe8cbe9cfe3",
   "metadata": {},
   "source": [
    "## Input\n",
    ". The first line contains an integer t\n",
    " (1≤t≤104\n",
    ") representing the number of test cases.\n",
    "\n",
    ". For each test case, the first line contains an integer n\n",
    " (4≤n≤105\n",
    ") representing the number of points in the order that El Soto provided to Samir.\n",
    "\n",
    ". The following n\n",
    " lines each contain two integers xi\n",
    " and yi\n",
    " (−109≤xi,yi≤109\n",
    ") representing the coordinates of the points.\n",
    "\n",
    ". It is guaranteed that the sum of n\n",
    " across all test cases does not exceed 105\n",
    ", that in each test case there are no three collinear points, and that for each test case there is always a unique solution.\n",
    "\n",
    "## Output\n",
    ". For each test case, print two integers i\n",
    ", j\n",
    " (i<j)\n",
    ", the indices of the coordinates that need to be swapped to obtain a correctly ordered convex hull."
   ]
  },
  {
   "cell_type": "code",
   "execution_count": 4,
   "id": "96931730-6731-4c37-a92f-5cdde52c2c7e",
   "metadata": {},
   "outputs": [
    {
     "name": "stdin",
     "output_type": "stream",
     "text": [
      " 2\n",
      " 4\n",
      " 0 0\n",
      " 1 1\n",
      " 1 0\n",
      " 0 1\n"
     ]
    },
    {
     "name": "stdout",
     "output_type": "stream",
     "text": [
      "{'n': 4, 'points': [[0, 0], [1, 1], [1, 0], [0, 1]]}\n"
     ]
    },
    {
     "name": "stdin",
     "output_type": "stream",
     "text": [
      " 5\n",
      " 1 0\n",
      " 4 3\n",
      " 3 0\n",
      " 2 5\n",
      " 0 2\n"
     ]
    },
    {
     "name": "stdout",
     "output_type": "stream",
     "text": [
      "{'n': 5, 'points': [[1, 0], [4, 3], [3, 0], [2, 5], [0, 2]]}\n"
     ]
    }
   ],
   "source": [
    "t = int(input())\n",
    "tab = []\n",
    "for i in range(t):\n",
    "    e = {}\n",
    "    n = int(input())\n",
    "    e['n'] = n\n",
    "    PMatrix = []\n",
    "    for j in range(n):\n",
    "        Point = []\n",
    "        point = input()\n",
    "        x = point[:point.find(' ')]\n",
    "        y = point[point.find(' ')+1:]\n",
    "        Point.append(int(x))\n",
    "        Point.append(int(y))\n",
    "        PMatrix.append(Point)\n",
    "    e['points'] = PMatrix\n",
    "    print(e)\n",
    "    tab.append(e)"
   ]
  },
  {
   "cell_type": "code",
   "execution_count": 6,
   "id": "ecb0b281-d08e-4bee-af32-5ea1d1f33c23",
   "metadata": {},
   "outputs": [
    {
     "data": {
      "text/plain": [
       "[{'n': 4, 'points': [[0, 0], [1, 1], [1, 0], [0, 1]]},\n",
       " {'n': 5, 'points': [[1, 0], [4, 3], [3, 0], [2, 5], [0, 2]]}]"
      ]
     },
     "execution_count": 6,
     "metadata": {},
     "output_type": "execute_result"
    }
   ],
   "source": [
    "tab"
   ]
  },
  {
   "cell_type": "code",
   "execution_count": 67,
   "id": "86762ee5-b343-431d-9677-aa26cb73a099",
   "metadata": {},
   "outputs": [],
   "source": [
    "# find the postion of the point that make a small angle or area with the mother point\n",
    "def findpos(tabP,X,Y, pM, n):\n",
    "    #table that containes the area bewtwenn the pointM and the other points\n",
    "    tabA = []\n",
    "    for i in range(pM+1, n):\n",
    "        # get the cordanate from other points\n",
    "        x = tabP[i][0]\n",
    "        y = tabP[i][1]\n",
    "        area = (X*y) - (Y*x)     \n",
    "        tabA.append(area)\n",
    "    #return the postion of poitn that make a small area or angle with the mother point M(X,Y)\n",
    "    return tabA.index(min(tabA)) + pM + 1\n",
    "    "
   ]
  },
  {
   "cell_type": "code",
   "execution_count": 73,
   "id": "7787d033-18f6-404b-9fff-63d656f3ea21",
   "metadata": {},
   "outputs": [
    {
     "name": "stdout",
     "output_type": "stream",
     "text": [
      "2 3\n",
      "2 3\n"
     ]
    }
   ],
   "source": [
    "\n",
    "for sets in tab:\n",
    "    n = sets['n']\n",
    "    #points for every set\n",
    "    tabP = sets['points']\n",
    "\n",
    "\n",
    "    #find the error and print the index of the points that needs to be swapped\n",
    "    for i in range(n):\n",
    "        X = tabP[i][0]\n",
    "        Y = tabP[i][1]\n",
    "        pM = i\n",
    "        #the postion of the point that need to be swapped\n",
    "        if(X != 0 and Y != 0):\n",
    "            pos = findpos(tabP, X, Y, pM, n)\n",
    "            if(pos != i):\n",
    "                p1= i+1\n",
    "                p2 =pos+1\n",
    "                \n",
    "                print(p1, p2)\n",
    "                break\n",
    "   "
   ]
  },
  {
   "cell_type": "code",
   "execution_count": null,
   "id": "e9e04a75-908b-4841-a535-8498bd603326",
   "metadata": {},
   "outputs": [],
   "source": []
  }
 ],
 "metadata": {
  "kernelspec": {
   "display_name": "Python 3 (ipykernel)",
   "language": "python",
   "name": "python3"
  },
  "language_info": {
   "codemirror_mode": {
    "name": "ipython",
    "version": 3
   },
   "file_extension": ".py",
   "mimetype": "text/x-python",
   "name": "python",
   "nbconvert_exporter": "python",
   "pygments_lexer": "ipython3",
   "version": "3.12.7"
  }
 },
 "nbformat": 4,
 "nbformat_minor": 5
}
